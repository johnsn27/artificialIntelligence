{
 "cells": [
  {
   "cell_type": "markdown",
   "metadata": {
    "id": "kdcN-KFjRqqu"
   },
   "source": [
    "# Week 2 - Lab\n",
    "\n",
    "* The **Task** is to **fit** a polynomial curve to data. This is called **curve fitting**.\n",
    "* The Learning Outcome: Hands-on application of Automatic Differentiation.\n"
   ]
  },
  {
   "cell_type": "markdown",
   "metadata": {
    "id": "tkhI28oNRqrJ"
   },
   "source": [
    "## Creating the data\n",
    "\n",
    "* Let us first create some data using a known function. We will use the **sinusoidal** function $y=f(x)=sin(x)$. \n",
    "    * x is the input to the function and y is the output of the function.\n",
    "* The following code generates and plots our data. "
   ]
  },
  {
   "cell_type": "code",
   "execution_count": 2,
   "metadata": {
    "id": "xpVkjebORqrN"
   },
   "outputs": [],
   "source": [
    "import torch\n",
    "import math\n",
    "import matplotlib.pyplot as plt\n",
    "%matplotlib inline"
   ]
  },
  {
   "cell_type": "code",
   "execution_count": 3,
   "metadata": {
    "id": "suhwdd3CRqrQ",
    "scrolled": false
   },
   "outputs": [
    {
     "data": {
      "image/png": "[encoded data removed]",
      "text/plain": [
       "<Figure size 432x288 with 1 Axes>"
      ]
     },
     "metadata": {
      "needs_background": "light"
     },
     "output_type": "display_data"
    }
   ],
   "source": [
    "# Create input data x and output (target) data y\n",
    "N = 2000 # number of samples\n",
    "x = torch.linspace(-math.pi, math.pi, N, dtype=torch.float32)\n",
    "y = torch.sin(x);\n",
    "plt.plot(x, y);\n",
    "plt.grid();\n",
    "plt.xlabel('x');\n",
    "plt.ylabel('y = f(x)');"
   ]
  },
  {
   "cell_type": "markdown",
   "metadata": {
    "id": "J0o08nrGRqrV"
   },
   "source": [
    "## The Task\n",
    "\n",
    "* Let's assume that we do not know the function that generated the target $y$ from input $x$. That is we do not know that $y$ and $x$ are related through the function $y=sin(x)$.\n",
    "* We are just given the value pais $(x_i, y_i), i=1,\\dots,N$.\n",
    "* Our goal is find a polynomial curve that can fit the pais $(x_i, y_i)$ as accurately as possible.\n",
    "* A polynomial (of degree 3) is given by the following formula:\n",
    "$$P_3(x)= w_0 + w_1x + w_2x^2 + w_3x^3$$\n",
    "where $w_0, w_1, w_2, w_3$ are the weights (our model parameters).\n",
    "* By changing the weights different polynomial curves can be obtained!"
   ]
  },
  {
   "cell_type": "code",
   "execution_count": 4,
   "metadata": {
    "id": "5LJj570lRqrW",
    "scrolled": true
   },
   "outputs": [
    {
     "data": {
      "image/png": "[encoded data removed]",
      "text/plain": [
       "<Figure size 432x288 with 1 Axes>"
      ]
     },
     "metadata": {
      "needs_background": "light"
     },
     "output_type": "display_data"
    }
   ],
   "source": [
    "# Run this cell multiple times to see how different polynomial curves look like \n",
    "\n",
    "# Randomly initialize weights\n",
    "w0 = torch.randn((), dtype=torch.float32)\n",
    "w1 = torch.randn((), dtype=torch.float32)\n",
    "w2 = torch.randn((), dtype=torch.float32)\n",
    "w3 = torch.randn((), dtype=torch.float32)\n",
    "y_hat = w0 + w1 * x + w2 * x ** 2 + w3 * x ** 3\n",
    "\n",
    "# Plot the polynomial curve \n",
    "plt.plot(x, y_hat);\n",
    "plt.grid();\n",
    "plt.xlabel('x');\n",
    "plt.ylabel('y = f(x)');"
   ]
  },
  {
   "cell_type": "markdown",
   "metadata": {
    "id": "sq2UhDaARqrY"
   },
   "source": [
    "## The Algorithm  \n",
    "* We want to find the weights so that the polynomial curve becomes \"as close as possible\" to the sinusodial function. \n",
    "* \"As close as possible\" is defined with the $L_2$ loss: $$\\sum_{i=1}^N (\\tilde{y}_i - y_i)^2$$ where $\\tilde{y}_i =w_0 + w_1x_i + w_2x_i^2 + w_3x_i^3$\n",
    "\n",
    "* To find the weights, you have to execute the following algorithm for 2000 iterations:\n",
    "    1. Step 1: Calculate prediction $\\tilde{y}_i, i=1,\\dots,N$ with current weights (forward pass) \n",
    "    1. Step 2: Calculate the derivative of the loss with respect to $\\tilde{y}_i$:\n",
    "\n",
    "    $$\\textrm {grad_} \\tilde{y}_i= 2(\\tilde{y}_i-y_i), i=1,\\dots,N.$$\n",
    "     \n",
    "    1. Step 3: Calculate the derivative of the loss with respect to the weights. The derivatives are given by the following formulas:\n",
    "\n",
    "    $$\\textrm {grad_} w_0= \\sum_{i=1}^N \\textrm {grad_} \\tilde{y}_i,$$\n",
    "\n",
    "    $$\\textrm {grad_} w_1= \\sum_{i=1}^N \\textrm {grad_} \\tilde{y}_ix_i,$$\n",
    "  \n",
    "    $$\\textrm {grad_} w_2= \\sum_{i=1}^N \\textrm {grad_} \\tilde{y}_ix_i^2,$$\n",
    "\n",
    "    $$\\textrm {grad_} w_3= \\sum_{i=1}^N \\textrm {grad_} \\tilde{y}_ix_i^3.$$\n",
    "\n",
    "    1. Step 4: Update the weights from:\n",
    "\n",
    "    $$ w_0 \\leftarrow w_0 - lr \\cdot \\textrm {grad_} w_0,$$\n",
    "    \n",
    "    $$ w_1 \\leftarrow w_1 - lr \\cdot \\textrm {grad_} w_1,$$\n",
    "\n",
    "    $$ w_2 \\leftarrow w_2 - lr \\cdot \\textrm {grad_} w_2,$$\n",
    "\n",
    "    $$ w_3 \\leftarrow w_3 - lr \\cdot \\textrm {grad_} w_3,$$\n",
    "    \n",
    "    where lr is a constant which is called learning_rate. We set it to $1e-6$.\n"
   ]
  },
  {
   "cell_type": "code",
   "execution_count": 5,
   "metadata": {
    "id": "2msUXd-iRqra"
   },
   "outputs": [
    {
     "name": "stdout",
     "output_type": "stream",
     "text": [
      "99 1304.790283203125\n",
      "199 925.0843505859375\n",
      "299 656.6682739257812\n",
      "399 466.90838623046875\n",
      "499 332.7471923828125\n",
      "599 237.8889617919922\n",
      "699 170.8157196044922\n",
      "799 123.3867416381836\n",
      "899 89.84686279296875\n",
      "999 66.12782287597656\n",
      "1099 49.35321807861328\n",
      "1199 37.48939895629883\n",
      "1299 29.09842300415039\n",
      "1399 23.163467407226562\n",
      "1499 18.96554946899414\n",
      "1599 15.99617862701416\n",
      "1699 13.895746231079102\n",
      "1799 12.409939765930176\n",
      "1899 11.35887336730957\n",
      "1999 10.61532974243164\n",
      "Result: y = 0.044798482209444046 + 0.8541826605796814 x + -0.0077284821309149265 x^2 + -0.09296650439500809 x^3\n"
     ]
    }
   ],
   "source": [
    "# Randomly initialize weights\n",
    "w0 = torch.randn((), dtype=torch.float32)\n",
    "w1 = torch.randn((), dtype=torch.float32)\n",
    "w2 = torch.randn((), dtype=torch.float32)\n",
    "w3 = torch.randn((), dtype=torch.float32)\n",
    "\n",
    "# Fill in the gaps denoned with ?? by writing your code\n",
    "lr = 1e-6 # learning rate\n",
    "for t in range(2000):\n",
    "    # Step 1. Calculate prediction y with current weights (forward pass).\n",
    "    y_hat = w0 + w1 * x + w2 * x ** 2 + w3 * x ** 3\n",
    "\n",
    "    # Compute and print loss\n",
    "    loss = (y_hat - y).pow(2).sum()\n",
    "    if t % 100 == 99:\n",
    "        print(t, loss.item())\n",
    "        \n",
    "    # Step 2. Calculate the derivative of the loss with respect to y_hat.\n",
    "    # Write your code here:\n",
    "    # grad_y_hat = ??\n",
    "    grad_y_hat = 2.0 * (y_hat - y)\n",
    "    \n",
    "    # Step 3. Calculate the derivative of the loss with respect to the weights.\n",
    "    # Write your code here:\n",
    "    # grad_w0 = ??\n",
    "    # grad_w1 = ??\n",
    "    # grad_w2 = ??\n",
    "    # grad_w3 = ??\n",
    "    \n",
    "    grad_w0 = grad_y_hat.sum()\n",
    "    grad_w1 = (grad_y_hat * x).sum()\n",
    "    grad_w2 = (grad_y_hat * x ** 2).sum()\n",
    "    grad_w3 = (grad_y_hat * x ** 3).sum()\n",
    "    \n",
    "    # Step 4. Update the weights (using gradient descent).\n",
    "    # Write your code here:\n",
    "    # w0 = ??\n",
    "    # w1 = ??\n",
    "    # w2 = ??\n",
    "    # w3 = ??\n",
    "    \n",
    "    w0 -= lr * grad_w0\n",
    "    w1 -= lr * grad_w1\n",
    "    w2 -= lr * grad_w2\n",
    "    w3 -= lr * grad_w3\n",
    "\n",
    "\n",
    "print(f'Result: y = {w0.item()} + {w1.item()} x + {w2.item()} x^2 + {w3.item()} x^3')"
   ]
  },
  {
   "cell_type": "code",
   "execution_count": 5,
   "metadata": {
    "id": "y1dqH9rkRqrd"
   },
   "outputs": [
    {
     "data": {
      "image/png": "[encoded data removed]",
      "text/plain": [
       "<Figure size 432x288 with 1 Axes>"
      ]
     },
     "metadata": {
      "needs_background": "light"
     },
     "output_type": "display_data"
    }
   ],
   "source": [
    "# Show predictions with final weights\n",
    "y_hat = w0 + w1 * x + w2 * x ** 2 + w3 * x ** 3\n",
    "plt.plot(x, y, x, y_hat);\n",
    "plt.grid();\n",
    "plt.xlabel('x');\n",
    "plt.ylabel('y = f(x)');"
   ]
  },
  {
   "cell_type": "markdown",
   "metadata": {
    "id": "h06IEZM3Rqrf"
   },
   "source": [
    "## The Algorithm  using Automatic Differentiation\n",
    "* In the previous algorithm we had to provide mathetimatical formulas for the derivatives of the loss with respect to $\\tilde{y}_i$ and the weights.\n",
    "* We also had to code the formulas.\n",
    "* We can by-pass all of the above using PyTorch's Automatic Differentiation.\n",
    "* Modify the previous algotithm as follows:\n",
    "    1. Initialize the weights as above but also set `requires_grad=True`. This will indicate to PyTorch that it must calculate gradients for these variables. \n",
    "    1. Calculate the `loss` and call `loss.backward()`. \n",
    "    1. The calculcated gradients for each weight are stored in .grad (for example the $\\textrm {grad_} w_0$ is stored in `w_0.grad`. Using the automatically calculated gradients update the weights as above.\n",
    "    1. Set all the gradients for the weights to zero\n"
   ]
  },
  {
   "cell_type": "code",
   "execution_count": 6,
   "metadata": {
    "id": "NmL4DVzDRqrg"
   },
   "outputs": [
    {
     "name": "stdout",
     "output_type": "stream",
     "text": [
      "99 164.78933715820312\n",
      "199 115.64095306396484\n",
      "299 82.06394958496094\n",
      "399 59.09833908081055\n",
      "499 43.37245178222656\n",
      "599 32.591636657714844\n",
      "699 25.192447662353516\n",
      "799 20.108430862426758\n",
      "899 16.6112117767334\n",
      "999 14.202885627746582\n",
      "1099 12.542594909667969\n",
      "1199 11.396744728088379\n",
      "1299 10.605097770690918\n",
      "1399 10.057594299316406\n",
      "1499 9.678556442260742\n",
      "1599 9.415894508361816\n",
      "1699 9.233682632446289\n",
      "1799 9.107168197631836\n",
      "1899 9.019254684448242\n",
      "1999 8.958099365234375\n",
      "Result: y = 0.011170677840709686 + 0.8514559268951416 x + -0.0019271279452368617 x^2 + -0.09257864952087402 x^3\n"
     ]
    }
   ],
   "source": [
    "# Modification 1: Initialize the weights as above but set requires_grad=True\n",
    "# Write your code here:\n",
    "# w0 = ??\n",
    "# w1 = ??\n",
    "# w2 = ??\n",
    "# w3 = ??\n",
    "\n",
    "w0 = torch.randn((), dtype=torch.float32, requires_grad=True)\n",
    "w1 = torch.randn((), dtype=torch.float32, requires_grad=True)\n",
    "w2 = torch.randn((), dtype=torch.float32, requires_grad=True)\n",
    "w3 = torch.randn((), dtype=torch.float32, requires_grad=True)\n",
    "\n",
    "# Fill in the gaps denoned with ?? by writing your code\n",
    "lr = 1e-6 # learning rate\n",
    "for t in range(2000):\n",
    "    # Calculate prediction y with current weights (forward pass).\n",
    "    y_hat = w0 + w1 * x + w2 * x ** 2 + w3 * x ** 3\n",
    "\n",
    "    # Compute and print loss\n",
    "    loss = (y_hat - y).pow(2).sum()\n",
    "    if t % 100 == 99:\n",
    "        print(t, loss.item())\n",
    "   \n",
    "    # Modification 2: call backward() on loss\n",
    "    # Write your code here:\n",
    "    # ??\n",
    "    loss.backward()\n",
    "    \n",
    "    # The update of the weights should not create new gradients\n",
    "    # For this reason we need to use torch.no_grad()\n",
    "    with torch.no_grad():\n",
    "        # Modification 3: Using the automatically calculated gradients update the weights as above.\n",
    "        # Write your code here:\n",
    "        # w0 -= ??\n",
    "        # w1 -= ??\n",
    "        # w2 -= ??\n",
    "        # w3 -= ??\n",
    "        w0 -= lr * w0.grad\n",
    "        w1 -= lr * w1.grad\n",
    "        w2 -= lr * w2.grad\n",
    "        w3 -= lr * w3.grad\n",
    "\n",
    "    # Modification 4: set all the gradients for the weights to zero\n",
    "    # Write your code here:\n",
    "    # ??\n",
    "    # w0.grad = ??\n",
    "    # w1.grad = ??\n",
    "    # w2.grad = ??\n",
    "    # w3.grad = ??\n",
    "    \n",
    "    w0.grad.zero_()\n",
    "    w1.grad.zero_()\n",
    "    w2.grad.zero_()\n",
    "    w3.grad.zero_()\n",
    "\n",
    "print(f'Result: y = {w0.item()} + {w1.item()} x + {w2.item()} x^2 + {w3.item()} x^3')"
   ]
  },
  {
   "cell_type": "code",
   "execution_count": 7,
   "metadata": {
    "id": "O77EGRdeRqrk"
   },
   "outputs": [
    {
     "data": {
      "image/png": "[encoded data removed]",
      "text/plain": [
       "<Figure size 432x288 with 1 Axes>"
      ]
     },
     "metadata": {
      "needs_background": "light"
     },
     "output_type": "display_data"
    }
   ],
   "source": [
    "# Show predictions with final weights\n",
    "w0.detach_().numpy()\n",
    "w1.detach_().numpy()\n",
    "w2.detach_().numpy()\n",
    "w3.detach_().numpy()\n",
    "\n",
    "y_hat = w0 + w1 * x + w2 * x ** 2 + w3 * x ** 3\n",
    "plt.plot(x, y, x, y_hat);\n",
    "plt.grid();\n",
    "plt.xlabel('x');\n",
    "plt.ylabel('y = f(x)');"
   ]
  },
  {
   "cell_type": "code",
   "execution_count": null,
   "metadata": {},
   "outputs": [],
   "source": []
  },
  {
   "cell_type": "code",
   "execution_count": null,
   "metadata": {},
   "outputs": [],
   "source": []
  }
 ],
 "metadata": {
  "colab": {
   "collapsed_sections": [],
   "name": "Week02_Lab_with_answers.ipynb",
   "provenance": []
  },
  "kernelspec": {
   "display_name": "Python 3",
   "language": "python",
   "name": "python3"
  },
  "language_info": {
   "codemirror_mode": {
    "name": "ipython",
    "version": 3
   },
   "file_extension": ".py",
   "mimetype": "text/x-python",
   "name": "python",
   "nbconvert_exporter": "python",
   "pygments_lexer": "ipython3",
   "version": "3.8.5"
  }
 },
 "nbformat": 4,
 "nbformat_minor": 1
}

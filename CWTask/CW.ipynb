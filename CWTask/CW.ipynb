{
 "cells": [
  {
   "cell_type": "code",
   "execution_count": 274,
   "metadata": {},
   "outputs": [],
   "source": [
    "# Uncomment if use Colab\n",
    "# '''from google.colab import drive\n",
    "# drive.mount('/content/gdrive', force_remount=True) #mount google drive\n",
    "# '''"
   ]
  },
  {
   "cell_type": "code",
   "execution_count": 330,
   "metadata": {
    "id": "4d2kQ8WqNRwh",
    "slideshow": {
     "slide_type": "skip"
    }
   },
   "outputs": [],
   "source": [
    "# Nothing better to begin with than by importing some necessary dependencies. \n",
    "%matplotlib inline\n",
    "import torch\n",
    "import matplotlib.pyplot as plt\n",
    "from torch.utils import data\n",
    "import random\n",
    "import sys\n",
    "import my_utils as mu\n",
    "d2l = sys.modules[__name__]"
   ]
  },
  {
   "cell_type": "markdown",
   "metadata": {
    "id": "2iTuBhPKNRwm",
    "slideshow": {
     "slide_type": "slide"
    }
   },
   "source": [
    "# ECS269U/P - Coursework\n",
    "\n",
    "\n",
    "* The **goal** of the CW is similar to that of Week 2's Lab: fitting a curve to data, also known as **curve fitting**. \n",
    "* This has applications in many different disciplines that make use of AI: FinTech, Physics Modelling, or even Sports. \n",
    "* For example, we might be interested in learning the evolution (over time) of the price of a specific product in different countries. This can depend on several factors: the product itself, the country, the initial value of the product's price, etc. \n",
    "* As usual, we are interested in learning a model that finds these relationships *from the data*. \n"
   ]
  },
  {
   "cell_type": "markdown",
   "metadata": {
    "id": "ZukjW50JNRwn",
    "slideshow": {
     "slide_type": "slide"
    }
   },
   "source": [
    "### Learning a family of functions\n",
    "\n",
    "* The main difference with Week 2's Lab is that we will learn a network that does not learn a single function but a *family of functions*.\n",
    "* We will consider a family of sinusoidal functions. \n",
    "* Below you can find the code generating the data according to different random sinusoidal functions $\\{f_a\\}$. We randomly generate a set of 40 points in the x-axis in the interval $[-2, 2]$, slightly randomly shifted. Our functions will have the form of $y = f_a(x) = a * sin(x+a)$ where each $a$ will be randomly sampled for each function from interval $[-2, 2]$.  To \"draw\" a function $f_a$, we first choose some $a \\sim U(-2,2)$ and then we compute $f_a$ using the above formula for all the $x$ in the x-axis. \n"
   ]
  },
  {
   "cell_type": "code",
   "execution_count": 331,
   "metadata": {
    "id": "3lxK0rwYNRwn",
    "slideshow": {
     "slide_type": "slide"
    }
   },
   "outputs": [],
   "source": [
    "Nf = 2000 # the number of different functions f that we will generate\n",
    "Npts = 40 # the number of x values that we will use to generate each fa\n",
    "x = torch.zeros(Nf, Npts, 1)\n",
    "for k in range(Nf):\n",
    "    x[k,:,0] = torch.linspace(-2, 2, Npts)\n",
    "\n",
    "x += torch.rand_like(x)*0.1\n",
    "a = -2 + 4*torch.rand(Nf).view(-1,1).repeat(1, Npts).unsqueeze(2)\n",
    "y = a*torch.sin(x+a)"
   ]
  },
  {
   "cell_type": "markdown",
   "metadata": {
    "id": "Jq0EeX9cNRwo",
    "slideshow": {
     "slide_type": "slide"
    }
   },
   "source": [
    "## The Learning Goal\n",
    "\n",
    "* Because we are dealing with a family of functions and not just a single function, our model must be able to perform two tasks: *Function Selection* and *Regression*.\n",
    "* Function selection means that given some *additional* input (to be defined below) the model somehow must choose which function $f_a$ from the family of functions $\\{f_a\\}$ it needs to model.\n",
    "* Once the correct function is picked then the model must perform regression i.e. learn the relationship $y=f_a(x)$.\n",
    "\n"
   ]
  },
  {
   "cell_type": "markdown",
   "metadata": {
    "id": "rkJ9LSYWNRwp",
    "slideshow": {
     "slide_type": "slide"
    }
   },
   "source": [
    "\n",
    "## The Learning Objective\n",
    "\n",
    "* During training we randomly sample functions from the family of functions $\\{f_a\\}$. For each $f_a$, we are provided with the (input, output) pairs $(x_t, y_t), t=1,\\dots,N_{pts}$.\n",
    "\n",
    "* To perform *Function Selection*, a **random subset** of $(x_t, y_t), t=1,\\dots,N_{pts}$ is provided as auxiliary input to the model during *both training and testing*. These auxiliary data is called the *context data:* $(x_c, y_c), c=1,\\dots,N_c$. \n",
    "\n",
    "* Note that the total number of context points $N_c$ should be different (and randomly chosen) for every batch so that the model learns to handle different number of context points at test time. This means that the model should be able to work for e.g. $N_c=5$ but also for $N_c=12$ etc.\n",
    "\n",
    "* Our model will take the context pairs $(x_c, y_c)$ and input values $x_t$ and will produce the estimated values $\\hat{y}_t$. \n",
    "\n",
    "* During training we have access to the ground-truth values $y_t$, and thus we can compute a loss between the model's predictions $\\hat{y}_t$ and the ground-truth values $y_t$.  \n"
   ]
  },
  {
   "cell_type": "markdown",
   "metadata": {
    "id": "gAr6FPwWNRwp",
    "slideshow": {
     "slide_type": "slide"
    }
   },
   "source": [
    "## The Model\n",
    "\n",
    "* Our model will consists of 2 MLPs which must be jointly trained.\n",
    "* The first MLP is called the *Context Encoder* or Encoder. The Encoder will take as input each pair $(x_c, y_c)$ and will produce a corresponding feature representation $r_c$ of dimension $r_{dim}$.\n",
    "* A total context feature is produced by averaging over all features: $r_C= \\frac{1}{N}\\sum_c r_c$.\n",
    "* The second MLP is called the Decoder. It takes as input the $r_C$ and each input data $x_t$ and produces the model's prediction $\\hat{y}_t$. \n",
    "\n"
   ]
  },
  {
   "cell_type": "markdown",
   "metadata": {
    "id": "uKgPk6MbNRwp",
    "slideshow": {
     "slide_type": "slide"
    }
   },
   "source": [
    "![Encoder-Decoder](CW1.png)\n",
    "\n"
   ]
  },
  {
   "cell_type": "markdown",
   "metadata": {
    "id": "Dni9bGa2NRwp",
    "slideshow": {
     "slide_type": "slide"
    }
   },
   "source": [
    "## Architectures\n",
    "\n",
    "* The Encoder and the Decoder are **MLPs**. You can experiment with your own architectures. You can also choose to implement the following architectures:\n",
    "    * *Encoder*: It will map the input pair $(x_c, y_c)$ to some features of dimension $h_{dim}$ using 2 *hidden* layers. A final layer will produce the feature representation $r_c$ of dimension $r_{dim}$.\n",
    "    * *Decoder*: It will map the input pair $(r_C, x_t)$ to some features of dimension $h_{dim}$ using 2 *hidden* layers. A final layer will produce the model's prediction $\\hat{y}_t$."
   ]
  },
  {
   "cell_type": "markdown",
   "metadata": {
    "id": "e1COz3usNRwq",
    "slideshow": {
     "slide_type": "slide"
    }
   },
   "source": [
    "## Tasks\n",
    "\n",
    "* You have to implement the following:\n",
    "    1. Create the training dataset and dataloader (10%). \n",
    "    2. Create the Encoder and Decoder (20 + 20%). \n",
    "    3. Create the optimizer and the loss for your model (10%).\n",
    "    4. Write the training script that will train the model and print the training loss (30%).\n",
    "    5. Evaluate the model on some validation data. Plot some predictions. (10%). \n",
    "\n",
    "* You might want to explore the impact of the following design choices and hyperparameters:\n",
    "    1. Number of hidden layers and $h_{dim}$, and  $r_{dim}$.\n",
    "    1. Type of optimizer, batch-size and all relevant hyper-parameters from Week 5."
   ]
  },
  {
   "cell_type": "markdown",
   "metadata": {},
   "source": [
    "# Test data  \n",
    "\n",
    "* Test data are stored in a dictionary where each key has the data for a single function $f_a$. We have generated 6 different functions named as `function_num_1`, `function_num_2` and so on. "
   ]
  },
  {
   "cell_type": "code",
   "execution_count": 332,
   "metadata": {},
   "outputs": [],
   "source": [
    "import pickle\n",
    "path_to_the_pickle = './test_data.pkl'\n",
    "test_data =pickle.load(open(path_to_the_pickle,'rb'))\n",
    "# 6 test functions\n",
    "i = 2 # i=1,..6\n",
    "name= 'function_num_{}'.format(i)\n",
    "x_c=test_data[name]['context_pairs'][0]\n",
    "y_c=test_data[name]['context_pairs'][1]\n",
    "x_t =test_data[name]['x']"
   ]
  },
  {
   "cell_type": "code",
   "execution_count": 333,
   "metadata": {},
   "outputs": [
    {
     "data": {
      "text/plain": [
       "[<matplotlib.lines.Line2D at 0x12b6371c0>]"
      ]
     },
     "execution_count": 333,
     "metadata": {},
     "output_type": "execute_result"
    },
    {
     "data": {
      "image/png": "[encoded data removed]",
      "text/plain": [
       "<Figure size 432x288 with 1 Axes>"
      ]
     },
     "metadata": {
      "needs_background": "light"
     },
     "output_type": "display_data"
    }
   ],
   "source": [
    "plt.plot(x[0,:],y[0,:])\n",
    "plt.plot(x[1,:],y[1,:])\n",
    "plt.plot(x[2,:],y[2,:])\n",
    "plt.plot(x[3,:],y[3,:])\n",
    "plt.plot(x[4,:],y[4,:])\n",
    "plt.plot(x[5,:],y[5,:])\n",
    "plt.plot(x[6,:],y[6,:])"
   ]
  },
  {
   "cell_type": "code",
   "execution_count": 335,
   "metadata": {},
   "outputs": [
    {
     "name": "stdout",
     "output_type": "stream",
     "text": [
      "2\n"
     ]
    }
   ],
   "source": [
    "n_c = random.randint(3, 40)\n",
    "n_c = 2\n",
    "print(n_c)\n",
    "dataset = data.TensorDataset(x[:n_c], y[:n_c])\n",
    "batch_size = 16\n",
    "data_iter =  data.DataLoader(dataset, batch_size, shuffle=True)"
   ]
  },
  {
   "cell_type": "code",
   "execution_count": 336,
   "metadata": {},
   "outputs": [],
   "source": [
    "class Encoder(torch.nn.Module):\n",
    "    def __init__(self, num_inputs):\n",
    "        super(Encoder, self).__init__()\n",
    "        self.num_inputs = num_inputs\n",
    "#         here we need to produce an r_c of size = n_c so if n_c is 2 we need to output 2 r_c's\n",
    "    def forward(self, x):\n",
    "        averagex = torch.mean(x[0])\n",
    "        averagey = torch.mean(x[1])\n",
    "        r_c = [averagex,averagey]\n",
    "        return r_c"
   ]
  },
  {
   "cell_type": "code",
   "execution_count": 337,
   "metadata": {},
   "outputs": [
    {
     "name": "stdout",
     "output_type": "stream",
     "text": [
      "tensor([[[-1.9435],\n",
      "         [-1.8894],\n",
      "         [-1.7263],\n",
      "         [-1.6412],\n",
      "         [-1.5414],\n",
      "         [-1.4155],\n",
      "         [-1.3362],\n",
      "         [-1.2323],\n",
      "         [-1.1669],\n",
      "         [-1.0276],\n",
      "         [-0.9057],\n",
      "         [-0.8385],\n",
      "         [-0.7528],\n",
      "         [-0.6392],\n",
      "         [-0.5133],\n",
      "         [-0.3770],\n",
      "         [-0.3383],\n",
      "         [-0.2321],\n",
      "         [-0.0988],\n",
      "         [ 0.0238],\n",
      "         [ 0.0559],\n",
      "         [ 0.2119],\n",
      "         [ 0.2913],\n",
      "         [ 0.3687],\n",
      "         [ 0.5383],\n",
      "         [ 0.6134],\n",
      "         [ 0.7033],\n",
      "         [ 0.8434],\n",
      "         [ 0.9643],\n",
      "         [ 1.0366],\n",
      "         [ 1.1065],\n",
      "         [ 1.2479],\n",
      "         [ 1.3021],\n",
      "         [ 1.3894],\n",
      "         [ 1.4922],\n",
      "         [ 1.6208],\n",
      "         [ 1.7551],\n",
      "         [ 1.8025],\n",
      "         [ 1.9152],\n",
      "         [ 2.0291]],\n",
      "\n",
      "        [[-1.9740],\n",
      "         [-1.8560],\n",
      "         [-1.7314],\n",
      "         [-1.5935],\n",
      "         [-1.5620],\n",
      "         [-1.4092],\n",
      "         [-1.3564],\n",
      "         [-1.2615],\n",
      "         [-1.0869],\n",
      "         [-0.9894],\n",
      "         [-0.9442],\n",
      "         [-0.8685],\n",
      "         [-0.7408],\n",
      "         [-0.5944],\n",
      "         [-0.4792],\n",
      "         [-0.3931],\n",
      "         [-0.2996],\n",
      "         [-0.1704],\n",
      "         [-0.0616],\n",
      "         [ 0.0029],\n",
      "         [ 0.0782],\n",
      "         [ 0.2234],\n",
      "         [ 0.2636],\n",
      "         [ 0.4418],\n",
      "         [ 0.5595],\n",
      "         [ 0.6246],\n",
      "         [ 0.7573],\n",
      "         [ 0.8425],\n",
      "         [ 0.9177],\n",
      "         [ 1.0707],\n",
      "         [ 1.1012],\n",
      "         [ 1.2304],\n",
      "         [ 1.3495],\n",
      "         [ 1.4043],\n",
      "         [ 1.4891],\n",
      "         [ 1.6836],\n",
      "         [ 1.7739],\n",
      "         [ 1.8915],\n",
      "         [ 1.9880],\n",
      "         [ 2.0355]]])\n",
      "tensor([[[ 0.0215],\n",
      "         [ 0.1272],\n",
      "         [ 0.4422],\n",
      "         [ 0.6025],\n",
      "         [ 0.7846],\n",
      "         [ 1.0033],\n",
      "         [ 1.1329],\n",
      "         [ 1.2920],\n",
      "         [ 1.3851],\n",
      "         [ 1.5632],\n",
      "         [ 1.6942],\n",
      "         [ 1.7558],\n",
      "         [ 1.8229],\n",
      "         [ 1.8911],\n",
      "         [ 1.9381],\n",
      "         [ 1.9545],\n",
      "         [ 1.9525],\n",
      "         [ 1.9321],\n",
      "         [ 1.8757],\n",
      "         [ 1.7944],\n",
      "         [ 1.7687],\n",
      "         [ 1.6180],\n",
      "         [ 1.5259],\n",
      "         [ 1.4269],\n",
      "         [ 1.1810],\n",
      "         [ 1.0608],\n",
      "         [ 0.9092],\n",
      "         [ 0.6586],\n",
      "         [ 0.4318],\n",
      "         [ 0.2930],\n",
      "         [ 0.1573],\n",
      "         [-0.1188],\n",
      "         [-0.2243],\n",
      "         [-0.3928],\n",
      "         [-0.5871],\n",
      "         [-0.8214],\n",
      "         [-1.0514],\n",
      "         [-1.1284],\n",
      "         [-1.3007],\n",
      "         [-1.4580]],\n",
      "\n",
      "        [[ 0.1384],\n",
      "         [ 0.1478],\n",
      "         [ 0.1555],\n",
      "         [ 0.1612],\n",
      "         [ 0.1621],\n",
      "         [ 0.1641],\n",
      "         [ 0.1639],\n",
      "         [ 0.1623],\n",
      "         [ 0.1558],\n",
      "         [ 0.1500],\n",
      "         [ 0.1468],\n",
      "         [ 0.1409],\n",
      "         [ 0.1290],\n",
      "         [ 0.1129],\n",
      "         [ 0.0984],\n",
      "         [ 0.0868],\n",
      "         [ 0.0734],\n",
      "         [ 0.0539],\n",
      "         [ 0.0367],\n",
      "         [ 0.0263],\n",
      "         [ 0.0141],\n",
      "         [-0.0097],\n",
      "         [-0.0163],\n",
      "         [-0.0450],\n",
      "         [-0.0632],\n",
      "         [-0.0729],\n",
      "         [-0.0917],\n",
      "         [-0.1030],\n",
      "         [-0.1123],\n",
      "         [-0.1292],\n",
      "         [-0.1322],\n",
      "         [-0.1436],\n",
      "         [-0.1520],\n",
      "         [-0.1552],\n",
      "         [-0.1591],\n",
      "         [-0.1639],\n",
      "         [-0.1639],\n",
      "         [-0.1621],\n",
      "         [-0.1588],\n",
      "         [-0.1567]]])\n"
     ]
    }
   ],
   "source": [
    "net1 = Encoder(num_inputs)\n",
    "for X, y in data_iter:\n",
    "    print(X)\n",
    "    print(y)\n",
    "    r_c = net1([X, y])\n",
    "#     print(r_c)"
   ]
  },
  {
   "cell_type": "code",
   "execution_count": 299,
   "metadata": {},
   "outputs": [],
   "source": [
    "# need an rc for each context pair so if n_c is 6 we need 6 rc values\n",
    "\n",
    "class Decoder(torch.nn.Module):\n",
    "    def __init__(self, num_inputs):\n",
    "        super(Decoder, self).__init__()\n",
    "        self.num_inputs = num_inputs\n",
    "        self.Linear1 = torch.nn.Linear(3,1)\n",
    "        self.Sigmoid = torch.nn.Sigmoid()\n",
    "        self.Linear2 = torch.nn.Linear(1,40,1)\n",
    "        \n",
    "    def forward(self, x):\n",
    "        r_c = x[0]\n",
    "        print(r_c)\n",
    "        x_c = x[1][0]\n",
    "        i = 0\n",
    "# atm were only using 40 of x_c we need to use the other 15x40 by doing two for loops\n",
    "        for a in x[1]:\n",
    "            i += 1\n",
    "            for b in x[1][0]:\n",
    "                a = torch.tensor([r_c[0], r_c[1], b])\n",
    "                y_hat = self.Linear1(a)\n",
    "                y_hat = self.Sigmoid(y_hat)\n",
    "                y_hat = self.Linear2(y_hat)\n",
    "                y_hat = y_hat.view(1, 40, 1)\n",
    "        return y_hat"
   ]
  },
  {
   "cell_type": "code",
   "execution_count": 300,
   "metadata": {},
   "outputs": [],
   "source": [
    "# Create and initialize model:\n",
    "num_inputs = Npts\n",
    "# Needs to produce context feature: a sum of all features x and y\n",
    "net = Encoder(num_inputs)\n",
    "decoder = Decoder(num_inputs)"
   ]
  },
  {
   "cell_type": "code",
   "execution_count": 301,
   "metadata": {},
   "outputs": [],
   "source": [
    "def train(net, train_iter, loss, optimizer, epochs):\n",
    "    i = 0\n",
    "    x = 0\n",
    "    for epoch in range(epochs):\n",
    "        for X, y in train_iter:\n",
    "            optimizer.zero_grad()\n",
    "            r_c = net([X, y])\n",
    "            y_hat = decoder([r_c, X])\n",
    "            l = loss(y_hat, y)\n",
    "            l.backward()\n",
    "            optimizer.step()\n",
    "            x += 1\n",
    "    return y_hat"
   ]
  },
  {
   "cell_type": "code",
   "execution_count": 302,
   "metadata": {},
   "outputs": [
    {
     "name": "stdout",
     "output_type": "stream",
     "text": [
      "[tensor(0.0507), tensor(0.4065)]\n",
      "[tensor(0.0507), tensor(0.4065)]\n",
      "[tensor(0.0507), tensor(0.4065)]\n",
      "[tensor(0.0507), tensor(0.4065)]\n",
      "[tensor(0.0507), tensor(0.4065)]\n",
      "[tensor(0.0507), tensor(0.4065)]\n",
      "[tensor(0.0507), tensor(0.4065)]\n",
      "[tensor(0.0507), tensor(0.4065)]\n",
      "[tensor(0.0507), tensor(0.4065)]\n",
      "[tensor(0.0507), tensor(0.4065)]\n"
     ]
    }
   ],
   "source": [
    "loss = torch.nn.MSELoss()\n",
    "lr = 0.01\n",
    "optimizer = torch.optim.SGD(decoder.parameters(), lr)\n",
    "y_hat = train(net, data_iter, loss, optimizer, 10)"
   ]
  },
  {
   "cell_type": "code",
   "execution_count": 287,
   "metadata": {},
   "outputs": [
    {
     "data": {
      "text/plain": [
       "[<matplotlib.lines.Line2D at 0x12b179ee0>]"
      ]
     },
     "execution_count": 287,
     "metadata": {},
     "output_type": "execute_result"
    },
    {
     "data": {
      "image/png": "[encoded data removed]",
      "text/plain": [
       "<Figure size 432x288 with 1 Axes>"
      ]
     },
     "metadata": {
      "needs_background": "light"
     },
     "output_type": "display_data"
    }
   ],
   "source": [
    "plt.plot(x_c[0,:,0].to('cpu'), y_c[0,:,0].to('cpu'), '*')"
   ]
  },
  {
   "cell_type": "code",
   "execution_count": 289,
   "metadata": {},
   "outputs": [
    {
     "data": {
      "text/plain": [
       "[<matplotlib.lines.Line2D at 0x12add32b0>]"
      ]
     },
     "execution_count": 289,
     "metadata": {},
     "output_type": "execute_result"
    },
    {
     "data": {
      "image/png": "[encoded data removed]",
      "text/plain": [
       "<Figure size 432x288 with 1 Axes>"
      ]
     },
     "metadata": {
      "needs_background": "light"
     },
     "output_type": "display_data"
    }
   ],
   "source": [
    "plt.plot(x_t[0,:,0].to('cpu'), y_hat[0,:,0].detach().to('cpu'))"
   ]
  },
  {
   "cell_type": "code",
   "execution_count": 293,
   "metadata": {},
   "outputs": [
    {
     "data": {
      "text/plain": [
       "[<matplotlib.lines.Line2D at 0x12b4d5fa0>]"
      ]
     },
     "execution_count": 293,
     "metadata": {},
     "output_type": "execute_result"
    },
    {
     "data": {
      "image/png": "[encoded data removed]",
      "text/plain": [
       "<Figure size 432x288 with 1 Axes>"
      ]
     },
     "metadata": {
      "needs_background": "light"
     },
     "output_type": "display_data"
    }
   ],
   "source": [
    "plt.plot(x[0,:,0].to('cpu'), y[0,:,0].to('cpu'))"
   ]
  },
  {
   "cell_type": "code",
   "execution_count": 294,
   "metadata": {},
   "outputs": [
    {
     "data": {
      "text/plain": [
       "[<matplotlib.lines.Line2D at 0x12b54a4c0>]"
      ]
     },
     "execution_count": 294,
     "metadata": {},
     "output_type": "execute_result"
    },
    {
     "data": {
      "image/png": "[encoded data removed]",
      "text/plain": [
       "<Figure size 432x288 with 1 Axes>"
      ]
     },
     "metadata": {
      "needs_background": "light"
     },
     "output_type": "display_data"
    }
   ],
   "source": [
    "plt.plot(x[0,:,0].to('cpu'), y[0,:,0].to('cpu'))\n",
    "plt.plot(x_t[0,:,0].to('cpu'), y_hat[0,:,0].detach().to('cpu'))\n",
    "plt.plot(x_c[0,:,0].to('cpu'), y_c[0,:,0].to('cpu'), '*')"
   ]
  },
  {
   "cell_type": "code",
   "execution_count": null,
   "metadata": {},
   "outputs": [],
   "source": []
  }
 ],
 "metadata": {
  "colab": {
   "collapsed_sections": [],
   "name": "CW_v3_with_answers.ipynb",
   "provenance": []
  },
  "kernelspec": {
   "display_name": "Python 3",
   "language": "python",
   "name": "python3"
  },
  "language_info": {
   "codemirror_mode": {
    "name": "ipython",
    "version": 3
   },
   "file_extension": ".py",
   "mimetype": "text/x-python",
   "name": "python",
   "nbconvert_exporter": "python",
   "pygments_lexer": "ipython3",
   "version": "3.8.5"
  }
 },
 "nbformat": 4,
 "nbformat_minor": 1
}
